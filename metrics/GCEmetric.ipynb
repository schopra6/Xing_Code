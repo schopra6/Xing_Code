{
 "cells": [
  {
   "cell_type": "code",
   "execution_count": 1,
   "metadata": {},
   "outputs": [],
   "source": [
    "import numpy as np\n",
    "import pandas as pd"
   ]
  },
  {
   "cell_type": "code",
   "execution_count": 3,
   "metadata": {},
   "outputs": [],
   "source": [
    "zipped = list(zip(users,rec0,rec1,rec2))\n",
    "df = pd.DataFrame(zipped, columns=['Users', 'rec0', 'rec1','rec2'])\n",
    "df_sep={}\n",
    "df_sep['red']=df[:3].set_index('Users')\n",
    "df_sep['green']=df[3:].set_index('Users')"
   ]
  },
  {
   "cell_type": "code",
   "execution_count": 4,
   "metadata": {},
   "outputs": [],
   "source": [
    "zipped = list(zip(users,rel))\n",
    "relevant_items = pd.DataFrame(zipped, columns=['Users', 'rel']).set_index('Users')\n"
   ]
  },
  {
   "cell_type": "code",
   "execution_count": 6,
   "metadata": {},
   "outputs": [],
   "source": [
    "def totalRelevant(S, T):\n",
    "    '''\n",
    "    Input:\n",
    "     S : Recommended Items for a set of users\n",
    "     R :  Relevant Items(Ground Truth) for a set of users\n",
    "    '''\n",
    "    relevant_count=0\n",
    "    for uid in S.index:\n",
    "      if uid in T.index:  \n",
    "        #parse ids\n",
    "        recommended_items = np.array(S.loc[uid])\n",
    "        relevant_items = np.array(T.loc[uid].values[0]) \n",
    "        relevant_count += len(np.intersect1d(recommended_items, relevant_items, assume_unique=False))   \n",
    "    return relevant_count\n",
    "      \n",
    "def GCE(attribute,p,pf,alpha=-1):\n",
    "    sum=0\n",
    "    for attrib in attribute:\n",
    "        sum+=np.power(pf[attrib],alpha)*np.power(p[attrib],1-alpha) -1\n",
    "    return sum/(alpha*(1-alpha)) "
   ]
  },
  {
   "cell_type": "code",
   "execution_count": 7,
   "metadata": {},
   "outputs": [],
   "source": [
    "recsys='rec0'\n",
    "pf ={'red':0.5,'green':0.5}\n",
    "attribute =['red','green']"
   ]
  },
  {
   "cell_type": "code",
   "execution_count": 9,
   "metadata": {},
   "outputs": [],
   "source": [
    "def get_p(recsys):\n",
    "   count={}\n",
    "   for attrib in attribute:\n",
    "      count[attrib] =totalRelevant(df_sep[attrib][recsys],relevant_items)  \n",
    "   p={attrib:count[attrib]/sum(count.values()) for attrib in attribute }\n",
    "   print(sum(count.values()))\n",
    "   return p\n"
   ]
  },
  {
   "cell_type": "code",
   "execution_count": null,
   "metadata": {},
   "outputs": [],
   "source": [
    "get_p(recsys='rec0')"
   ]
  },
  {
   "cell_type": "code",
   "execution_count": 15,
   "metadata": {},
   "outputs": [],
   "source": [
    "def GCE(attribute,p,pf,alpha=-1):\n",
    "    sum=0\n",
    "    for attrib in attribute:\n",
    "        sum+=np.power(pf[attrib],alpha)*np.power(p[attrib],1-alpha)\n",
    "        \n",
    "    sum+=-1 \n",
    "    print(sum)   \n",
    "    return sum/(alpha*(1-alpha))  \n"
   ]
  },
  {
   "cell_type": "code",
   "execution_count": null,
   "metadata": {},
   "outputs": [],
   "source": [
    "GCE(attribute,get_p(recsys='rec1'),pf,alpha=-1)"
   ]
  }
 ],
 "metadata": {
  "kernelspec": {
   "display_name": "base",
   "language": "python",
   "name": "python3"
  },
  "language_info": {
   "codemirror_mode": {
    "name": "ipython",
    "version": 3
   },
   "file_extension": ".py",
   "mimetype": "text/x-python",
   "name": "python",
   "nbconvert_exporter": "python",
   "pygments_lexer": "ipython3",
   "version": "3.9.13"
  },
  "orig_nbformat": 4
 },
 "nbformat": 4,
 "nbformat_minor": 2
}

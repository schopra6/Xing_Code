{
 "cells": [
  {
   "cell_type": "code",
   "execution_count": 1,
   "metadata": {},
   "outputs": [],
   "source": [
    "import numpy as np\n",
    "import pandas as pd"
   ]
  },
  {
   "cell_type": "code",
   "execution_count": 2,
   "metadata": {},
   "outputs": [],
   "source": [
    "users =[1,2,3,4,5,6]\n",
    "rec0=[[1,6,8],[2,5,9],[1,6,7],[3,4,9],[1,5,7],[2,6,9]]\n",
    "rec1=[[1,5,9],[2,5,7],[2,5,9],[4,5,6],[1,2,10],[1,5,8]]\n",
    "rec2=[[1,3,7],[1,5,8],[2,7,9],[3,4,9],[5,7,10],[3,6,9]]\n",
    "rel=[[1,3,7],[5,8],[2,7],[3,4,9],[5,7,10],[1,3,6,9]]"
   ]
  },
  {
   "cell_type": "code",
   "execution_count": 3,
   "metadata": {},
   "outputs": [],
   "source": [
    "zipped = list(zip(users,rec0,rec1,rec2))\n",
    "df = pd.DataFrame(zipped, columns=['Users', 'rec0', 'rec1','rec2'])\n",
    "df_sep={}\n",
    "df_sep['red']=df[:3].set_index('Users')\n",
    "df_sep['green']=df[3:].set_index('Users')"
   ]
  },
  {
   "cell_type": "code",
   "execution_count": 75,
   "metadata": {},
   "outputs": [
    {
     "data": {
      "text/plain": [
       "{'red':             rec0       rec1       rec2\n",
       " Users                                 \n",
       " 1      [1, 6, 8]  [1, 5, 9]  [1, 3, 7]\n",
       " 2      [2, 5, 9]  [2, 5, 7]  [1, 5, 8]\n",
       " 3      [1, 6, 7]  [2, 5, 9]  [2, 7, 9],\n",
       " 'green':             rec0        rec1        rec2\n",
       " Users                                   \n",
       " 4      [3, 4, 9]   [4, 5, 6]   [3, 4, 9]\n",
       " 5      [1, 5, 7]  [1, 2, 10]  [5, 7, 10]\n",
       " 6      [2, 6, 9]   [1, 5, 8]   [3, 6, 9]}"
      ]
     },
     "execution_count": 75,
     "metadata": {},
     "output_type": "execute_result"
    }
   ],
   "source": [
    "df_sep"
   ]
  },
  {
   "cell_type": "code",
   "execution_count": 4,
   "metadata": {},
   "outputs": [],
   "source": [
    "zipped = list(zip(users,rel))\n",
    "relevant_items = pd.DataFrame(zipped, columns=['Users', 'rel']).set_index('Users')\n"
   ]
  },
  {
   "cell_type": "code",
   "execution_count": 5,
   "metadata": {},
   "outputs": [
    {
     "data": {
      "text/html": [
       "<div>\n",
       "<style scoped>\n",
       "    .dataframe tbody tr th:only-of-type {\n",
       "        vertical-align: middle;\n",
       "    }\n",
       "\n",
       "    .dataframe tbody tr th {\n",
       "        vertical-align: top;\n",
       "    }\n",
       "\n",
       "    .dataframe thead th {\n",
       "        text-align: right;\n",
       "    }\n",
       "</style>\n",
       "<table border=\"1\" class=\"dataframe\">\n",
       "  <thead>\n",
       "    <tr style=\"text-align: right;\">\n",
       "      <th></th>\n",
       "      <th>rel</th>\n",
       "    </tr>\n",
       "    <tr>\n",
       "      <th>Users</th>\n",
       "      <th></th>\n",
       "    </tr>\n",
       "  </thead>\n",
       "  <tbody>\n",
       "    <tr>\n",
       "      <th>1</th>\n",
       "      <td>[1, 3, 7]</td>\n",
       "    </tr>\n",
       "    <tr>\n",
       "      <th>2</th>\n",
       "      <td>[5, 8]</td>\n",
       "    </tr>\n",
       "    <tr>\n",
       "      <th>3</th>\n",
       "      <td>[2, 7]</td>\n",
       "    </tr>\n",
       "    <tr>\n",
       "      <th>4</th>\n",
       "      <td>[3, 4, 9]</td>\n",
       "    </tr>\n",
       "    <tr>\n",
       "      <th>5</th>\n",
       "      <td>[5, 7, 10]</td>\n",
       "    </tr>\n",
       "    <tr>\n",
       "      <th>6</th>\n",
       "      <td>[1, 3, 6, 9]</td>\n",
       "    </tr>\n",
       "  </tbody>\n",
       "</table>\n",
       "</div>"
      ],
      "text/plain": [
       "                rel\n",
       "Users              \n",
       "1         [1, 3, 7]\n",
       "2            [5, 8]\n",
       "3            [2, 7]\n",
       "4         [3, 4, 9]\n",
       "5        [5, 7, 10]\n",
       "6      [1, 3, 6, 9]"
      ]
     },
     "execution_count": 5,
     "metadata": {},
     "output_type": "execute_result"
    }
   ],
   "source": [
    "relevant_items"
   ]
  },
  {
   "cell_type": "code",
   "execution_count": 52,
   "metadata": {},
   "outputs": [
    {
     "data": {
      "text/html": [
       "<div>\n",
       "<style scoped>\n",
       "    .dataframe tbody tr th:only-of-type {\n",
       "        vertical-align: middle;\n",
       "    }\n",
       "\n",
       "    .dataframe tbody tr th {\n",
       "        vertical-align: top;\n",
       "    }\n",
       "\n",
       "    .dataframe thead th {\n",
       "        text-align: right;\n",
       "    }\n",
       "</style>\n",
       "<table border=\"1\" class=\"dataframe\">\n",
       "  <thead>\n",
       "    <tr style=\"text-align: right;\">\n",
       "      <th></th>\n",
       "      <th>rec0</th>\n",
       "      <th>rec1</th>\n",
       "      <th>rec2</th>\n",
       "    </tr>\n",
       "    <tr>\n",
       "      <th>Users</th>\n",
       "      <th></th>\n",
       "      <th></th>\n",
       "      <th></th>\n",
       "    </tr>\n",
       "  </thead>\n",
       "  <tbody>\n",
       "    <tr>\n",
       "      <th>4</th>\n",
       "      <td>[3, 4, 9]</td>\n",
       "      <td>[4, 5, 6]</td>\n",
       "      <td>[3, 4, 9]</td>\n",
       "    </tr>\n",
       "    <tr>\n",
       "      <th>5</th>\n",
       "      <td>[1, 5, 7]</td>\n",
       "      <td>[1, 2, 10]</td>\n",
       "      <td>[5, 7, 10]</td>\n",
       "    </tr>\n",
       "    <tr>\n",
       "      <th>6</th>\n",
       "      <td>[2, 6, 9]</td>\n",
       "      <td>[1, 5, 8]</td>\n",
       "      <td>[3, 6, 9]</td>\n",
       "    </tr>\n",
       "  </tbody>\n",
       "</table>\n",
       "</div>"
      ],
      "text/plain": [
       "            rec0        rec1        rec2\n",
       "Users                                   \n",
       "4      [3, 4, 9]   [4, 5, 6]   [3, 4, 9]\n",
       "5      [1, 5, 7]  [1, 2, 10]  [5, 7, 10]\n",
       "6      [2, 6, 9]   [1, 5, 8]   [3, 6, 9]"
      ]
     },
     "execution_count": 52,
     "metadata": {},
     "output_type": "execute_result"
    }
   ],
   "source": [
    "df_sep['green']"
   ]
  },
  {
   "cell_type": "code",
   "execution_count": 6,
   "metadata": {},
   "outputs": [],
   "source": [
    "def totalRelevant(S, T):\n",
    "    '''\n",
    "    Input:\n",
    "     S : Recommended Items for a set of users\n",
    "     R :  Relevant Items(Ground Truth) for a set of users\n",
    "    '''\n",
    "    relevant_count=0\n",
    "    for uid in S.index:\n",
    "      if uid in T.index:  \n",
    "        #parse ids\n",
    "        recommended_items = np.array(S.loc[uid])\n",
    "        relevant_items = np.array(T.loc[uid].values[0]) \n",
    "        relevant_count += len(np.intersect1d(recommended_items, relevant_items, assume_unique=False))   \n",
    "    return relevant_count\n",
    "      \n",
    "def GCE(attribute,p,pf,alpha=-1):\n",
    "    sum=0\n",
    "    for attrib in attribute:\n",
    "        sum+=np.power(pf[attrib],alpha)*np.power(p[attrib],1-alpha) -1\n",
    "    return sum/(alpha*(1-alpha)) "
   ]
  },
  {
   "cell_type": "code",
   "execution_count": 7,
   "metadata": {},
   "outputs": [],
   "source": [
    "recsys='rec0'\n",
    "pf ={'red':0.5,'green':0.5}\n",
    "attribute =['red','green']"
   ]
  },
  {
   "cell_type": "code",
   "execution_count": 9,
   "metadata": {},
   "outputs": [],
   "source": [
    "def get_p(recsys):\n",
    "   count={}\n",
    "   for attrib in attribute:\n",
    "      count[attrib] =totalRelevant(df_sep[attrib][recsys],relevant_items)  \n",
    "   p={attrib:count[attrib]/sum(count.values()) for attrib in attribute }\n",
    "   print(sum(count.values()))\n",
    "   return p\n"
   ]
  },
  {
   "cell_type": "code",
   "execution_count": 10,
   "metadata": {},
   "outputs": [
    {
     "name": "stdout",
     "output_type": "stream",
     "text": [
      "10\n"
     ]
    },
    {
     "data": {
      "text/plain": [
       "{'red': 0.3, 'green': 0.7}"
      ]
     },
     "execution_count": 10,
     "metadata": {},
     "output_type": "execute_result"
    }
   ],
   "source": [
    "get_p(recsys='rec0')"
   ]
  },
  {
   "cell_type": "code",
   "execution_count": 15,
   "metadata": {},
   "outputs": [],
   "source": [
    "def GCE(attribute,p,pf,alpha=-1):\n",
    "    sum=0\n",
    "    for attrib in attribute:\n",
    "        sum+=np.power(pf[attrib],alpha)*np.power(p[attrib],1-alpha)\n",
    "        \n",
    "    sum+=-1 \n",
    "    print(sum)   \n",
    "    return sum/(alpha*(1-alpha))  \n"
   ]
  },
  {
   "cell_type": "code",
   "execution_count": 17,
   "metadata": {},
   "outputs": [
    {
     "name": "stdout",
     "output_type": "stream",
     "text": [
      "6\n",
      "0.0\n"
     ]
    },
    {
     "data": {
      "text/plain": [
       "-0.0"
      ]
     },
     "execution_count": 17,
     "metadata": {},
     "output_type": "execute_result"
    }
   ],
   "source": [
    "GCE(attribute,get_p(recsys='rec1'),pf,alpha=-1)"
   ]
  },
  {
   "cell_type": "code",
   "execution_count": 74,
   "metadata": {},
   "outputs": [
    {
     "data": {
      "text/plain": [
       "{'red': 0.5, 'green': 0.5}"
      ]
     },
     "execution_count": 74,
     "metadata": {},
     "output_type": "execute_result"
    }
   ],
   "source": [
    "get_p(recsys='rec1')"
   ]
  },
  {
   "cell_type": "code",
   "execution_count": 72,
   "metadata": {},
   "outputs": [
    {
     "data": {
      "text/plain": [
       "0.5"
      ]
     },
     "execution_count": 72,
     "metadata": {},
     "output_type": "execute_result"
    }
   ],
   "source": [
    "GCE(attribute,get_p(recsys='rec1'),pf,alpha=-1)"
   ]
  },
  {
   "cell_type": "code",
   "execution_count": null,
   "metadata": {},
   "outputs": [],
   "source": []
  },
  {
   "cell_type": "code",
   "execution_count": null,
   "metadata": {},
   "outputs": [],
   "source": [
    "GCE(attribute,get_p(recsys='rec2'),pf,alpha=-1)"
   ]
  },
  {
   "cell_type": "code",
   "execution_count": 80,
   "metadata": {},
   "outputs": [],
   "source": [
    "recsys='rec0'\n",
    "pf ={'red':2/3,'green':1/3}\n",
    "attribute =['red','green']"
   ]
  },
  {
   "cell_type": "code",
   "execution_count": null,
   "metadata": {},
   "outputs": [],
   "source": [
    "GCE(attribute,get_p(recsys='rec0'),pf,alpha=-1)"
   ]
  },
  {
   "cell_type": "code",
   "execution_count": null,
   "metadata": {},
   "outputs": [],
   "source": [
    "GCE(attribute,get_p(recsys='rec1'),pf,alpha=-1)"
   ]
  }
 ],
 "metadata": {
  "kernelspec": {
   "display_name": "base",
   "language": "python",
   "name": "python3"
  },
  "language_info": {
   "codemirror_mode": {
    "name": "ipython",
    "version": 3
   },
   "file_extension": ".py",
   "mimetype": "text/x-python",
   "name": "python",
   "nbconvert_exporter": "python",
   "pygments_lexer": "ipython3",
   "version": "3.9.13"
  },
  "orig_nbformat": 4
 },
 "nbformat": 4,
 "nbformat_minor": 2
}

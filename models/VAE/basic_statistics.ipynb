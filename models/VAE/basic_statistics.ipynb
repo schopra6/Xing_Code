{
 "cells": [
  {
   "cell_type": "code",
   "execution_count": null,
   "metadata": {},
   "outputs": [],
   "source": [
    "import pandas as pd\n",
    "import os"
   ]
  },
  {
   "cell_type": "code",
   "execution_count": null,
   "metadata": {},
   "outputs": [],
   "source": [
    "def print_stats(df):\n",
    "    num_interact = len(df)\n",
    "    num_jobs = df[\"item_id\"].nunique()\n",
    "    num_users = df[\"user_id\"].nunique()\n",
    "    num_sessions = df[\"session_id\"].nunique()\n",
    "    sparsity = 1 - num_interact / (num_jobs * num_sessions)\n",
    "\n",
    "    print(f\"# Interact: {num_interact} # Jobs: {num_jobs} # Sessions: {num_sessions} (# User: {num_users}) Sparsity: {sparsity:.4f}\")"
   ]
  },
  {
   "cell_type": "code",
   "execution_count": null,
   "metadata": {},
   "outputs": [],
   "source": [
    "data_dir = \"../../data/\"\n",
    "\n",
    "for dataset in os.listdir(data_dir):\n",
    "    if os.path.isdir(data_dir + dataset):\n",
    "        print(dataset)\n",
    "        df = pd.read_csv(data_dir + dataset + \"/interim/interactions.csv\", header=0, sep='\\t')\n",
    "        print_stats(df)"
   ]
  },
  {
   "cell_type": "code",
   "execution_count": null,
   "metadata": {},
   "outputs": [],
   "source": []
  }
 ],
 "metadata": {
  "kernelspec": {
   "display_name": "Python 3",
   "language": "python",
   "name": "python3"
  },
  "language_info": {
   "codemirror_mode": {
    "name": "ipython",
    "version": 3
   },
   "file_extension": ".py",
   "mimetype": "text/x-python",
   "name": "python",
   "nbconvert_exporter": "python",
   "pygments_lexer": "ipython3",
   "version": "3.6.9"
  }
 },
 "nbformat": 4,
 "nbformat_minor": 4
}

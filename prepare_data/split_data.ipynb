{
 "cells": [
  {
   "cell_type": "code",
   "execution_count": 91,
   "metadata": {},
   "outputs": [],
   "source": [
    "import pandas as pd\n",
    "import matplotlib.pyplot as plt\n",
    "import numpy as np\n",
    "np.random.seed(123)\n",
    "from collections import OrderedDict as od"
   ]
  },
  {
   "cell_type": "code",
   "execution_count": 76,
   "metadata": {},
   "outputs": [],
   "source": [
    "#number of users for biased dataset\n",
    "unbiased_count = 70000\n",
    "#number of users for unbiased dataset\n",
    "biased_count =70000\n",
    "#number of rows per group in unbiased dataset\n",
    "rows_per_category = 800"
   ]
  },
  {
   "cell_type": "code",
   "execution_count": 208,
   "metadata": {},
   "outputs": [],
   "source": [
    "items_file = '../items.csv'\n",
    "users_file = '../users.csv' \n",
    "interactions_file = '../interactions.csv'\n",
    "trimmed_data = True\n",
    "#directory where data will be stored\n",
    "folder = 'reduced_data/'\n",
    "test_interaction_file = folder + 'test_interaction.csv'\n",
    "test_users_file = folder +'test_users.csv'\n",
    "train_users_file = folder + 'train_users.csv'\n",
    "#assigned gender file\n",
    "assigned_users_file = folder + 'assigned_users.csv'\n",
    "unbiased_test_interactions_file = folder + 'unbiased_test_interactions.csv'\n",
    "biased_test_interactions_file = folder + 'biased_test_interactions.csv'\n",
    "train_interactions_file = folder + 'train_interactions.csv'\n",
    "train_negative_sampling_interactions_file = folder + 'negative_interactions.csv'\n"
   ]
  },
  {
   "cell_type": "code",
   "execution_count": 115,
   "metadata": {},
   "outputs": [
    {
     "name": "stderr",
     "output_type": "stream",
     "text": [
      "/tmp/ipykernel_348978/784051060.py:3: FutureWarning: In a future version of pandas all arguments of read_csv except for the argument 'filepath_or_buffer' will be keyword-only.\n",
      "  interactions = pd.read_csv(interactions_file,'\\t')\n"
     ]
    }
   ],
   "source": [
    "items = pd.read_csv(items_file,sep='\\t')\n",
    "users = pd.read_csv(users_file,sep='\\t',dtype={'career_level':pd.Int64Dtype(), 'discipline_id':pd.Int64Dtype(), 'industry_id':pd.Int64Dtype(), 'experience_n_entries_class': pd.Int64Dtype(), 'experience_years_experience':pd.Int64Dtype(), 'experience_years_in_current':pd.Int64Dtype(),'edu_degree':pd.Int64Dtype()})\n",
    "interactions = pd.read_csv(interactions_file,'\\t')\n",
    "users.fillna(100,inplace=True)\n",
    "items.fillna(-100,inplace=True)"
   ]
  },
  {
   "cell_type": "code",
   "execution_count": 9,
   "metadata": {},
   "outputs": [],
   "source": [
    "career_count = users.groupby('career_level').count().sort_values(by=\"id\").reset_index()\n",
    "career_count\n",
    "career_dict = {0 : \"unknown\",\n",
    "1 : \"Student/Intern\",\n",
    "2 : \"Entry Level (Beginner)\",\n",
    "3 : \"Professional/Experienced\",\n",
    "4 : \"Manager (Manager/Supervisor)\",\n",
    "5 : \"Executive (VP, SVP, etc.)\",\n",
    "6 : \"Senior Executive (CEO, CFO, President)\",\n",
    "100: \"Unknown\"}\n",
    "\n",
    "edu_dict = {0: \"unknown\",1 : \"bachelor\",2 : \"master\",3 : \"phd\",100:\"unknown\"}\n",
    "encoding_dict = {'gender':{1:'male',0:'female'}}"
   ]
  },
  {
   "cell_type": "code",
   "execution_count": 10,
   "metadata": {},
   "outputs": [],
   "source": [
    "import itertools\n",
    "from collections import Counter\n",
    "import math\n",
    "def attribute_assignment(data,field_dict = {\"industry_id\" : [0,21], \"career_level\" : [1,2,3]}, set_attr = 'gender', proportion = [0.8,0.2], choices = [0,1]):\n",
    "    df = data.copy()\n",
    "    field_names = field_dict.keys()\n",
    "    x=[{field : df[field].unique()} for field in field_names]\n",
    "    combination = list(itertools.product(*list(field_dict.values()))) \n",
    "    for c in combination:\n",
    "      new_ind = None\n",
    "      for id,field in enumerate(field_names):\n",
    "            ind = df[field] == c[id]\n",
    "            if type(new_ind) != type(None):\n",
    "               new_ind = ind & new_ind\n",
    "            else:\n",
    "                  new_ind =ind \n",
    "      if sum(new_ind)>0:\n",
    "        total = sum(new_ind)\n",
    "        choice_prop= list(zip(choices,proportion))\n",
    "        final_array=[]\n",
    "        for item in choice_prop:\n",
    "          element = item[0]\n",
    "          prop=item[1]\n",
    "          arr = [element] * math.ceil(total*prop)\n",
    "          final_array = final_array+arr\n",
    "        final_array =np.array(final_array[:total])\n",
    "        np.random.shuffle(final_array)\n",
    "        df.loc[new_ind, set_attr] = final_array\n",
    "    \n",
    "   \n",
    "    return df"
   ]
  },
  {
   "cell_type": "code",
   "execution_count": 112,
   "metadata": {},
   "outputs": [],
   "source": [
    "#users with atleast 3 interactions\n",
    "users_pop = interactions.user_id.value_counts()\n",
    "good_users = users_pop[users_pop>2].index\n",
    "\n",
    "if trimmed_data:\n",
    "    #users only from 1,8,0,21\n",
    "    limited_users = users[users['industry_id'].isin([1,8,0,21])]\n",
    "    limited_users = limited_users[limited_users['id'].isin(good_users)]\n",
    "else:\n",
    "    limited_users = users[users['id'].isin(good_users)]\n",
    "\n"
   ]
  },
  {
   "cell_type": "code",
   "execution_count": 124,
   "metadata": {},
   "outputs": [],
   "source": [
    "interactions = interactions[interactions.user_id.isin(limited_users.id.values)]\n",
    "\n",
    "#limited_users = limited_users[limited_users['id'].isin(interactions['user_id'].unique())]   \n",
    "#interactions = interactions[interactions.user_id.isin(good_users)]\n",
    "interactions_positive = interactions[interactions['interaction_type'] != 4]\n",
    "#** reassigning var to users\n",
    "#users = limited_users[limited_users['id'].isin(interactions['user_id'].unique())]\n",
    "unbiased_test_users = limited_users.groupby(['career_level','experience_years_experience','industry_id'],as_index=False).apply(lambda x: x.sample(rows_per_category,replace=True,random_state =1))\n",
    "unbiased_test_users.drop_duplicates(subset=['id'],inplace=True)\n",
    "unbiased_test_users =unbiased_test_users[:unbiased_count]\n",
    "train_users = limited_users.drop(unbiased_test_users.index.levels[1])\n",
    "#train_users.reset_index(inplace=True,drop=True)\n",
    "unbiased_test_users.reset_index(inplace=True,drop=True)\n",
    "#train_users.drop_duplicates(subset=['id'],inplace=True)"
   ]
  },
  {
   "cell_type": "code",
   "execution_count": 129,
   "metadata": {},
   "outputs": [],
   "source": [
    "test_users = train_users.sample(biased_count,random_state=1)\n",
    "train_users = train_users[~train_users['id'].isin(test_users['id'])]\n",
    "all_users = pd.concat([test_users,train_users])"
   ]
  },
  {
   "cell_type": "code",
   "execution_count": 135,
   "metadata": {},
   "outputs": [],
   "source": [
    "split_divide =5\n",
    "def variable_head(group):\n",
    "    # Modify this function to get the head size you want\n",
    "    head_size = max(1,(len(group) //split_divide) )\n",
    "    return group.head(head_size)\n",
    "unbiased_test_interaction = interactions_positive[interactions_positive['user_id'].isin(unbiased_test_users['id'])].sort_values(['created_at'],ascending=False).groupby(['user_id'],as_index=False).apply(variable_head)"
   ]
  },
  {
   "cell_type": "code",
   "execution_count": 136,
   "metadata": {},
   "outputs": [],
   "source": [
    "# split data by taking latest interaction as test data for each user id\n",
    "biased_test_interaction = interactions_positive[interactions_positive['user_id'].isin(test_users['id'])].sort_values(['created_at'],ascending=False).groupby(['user_id'],as_index=False).apply(variable_head)"
   ]
  },
  {
   "cell_type": "code",
   "execution_count": 84,
   "metadata": {},
   "outputs": [],
   "source": [
    "# removing biased and unbiased interaction\n",
    "train_interaction = interactions[~interactions.index.isin(unbiased_test_interaction.droplevel(0).index)]\n",
    "train_interaction = train_interaction[~train_interaction.index.isin(biased_test_interaction.droplevel(0).index)]\n",
    "#industry_ids = users['industry_id'].unique()\n",
    "industry_ids = [1,0,21,8]\n",
    "career_level = limited_users['career_level'].unique()\n",
    "experience_years_experience = users['experience_years_experience'].unique()\n",
    "unbiased_users_test = attribute_assignment(unbiased_test_users,field_dict = od({\"industry_id\" : industry_ids,\"career_level\":career_level,\"experience_years_experience\":experience_years_experience}), set_attr = 'gender', proportion = [0.5,0.5], choices = [0,1])"
   ]
  },
  {
   "cell_type": "code",
   "execution_count": 141,
   "metadata": {},
   "outputs": [],
   "source": [
    "from collections import OrderedDict as od\n",
    "#users_1 = attribute_assignment(users,field_dict = od({\"industry_id\" : [0,21], \"career_level\" : [4,5,6]}),  set_attr = 'gender', proportion = [0.2,0.8], choices = [0,1])\n",
    "\n",
    "#proportion of males with lowER years of experience is (much) higher than the proportion of female with low years of experience\n",
    "users_1 = attribute_assignment(all_users,field_dict = od({\"industry_id\" : [0,21], \"career_level\" : [4,5,6],\"experience_years_experience\" : [0,1,2,3]}), set_attr = 'gender', proportion = [0.2,0.8], choices = [0,1])\n",
    "#proportion of males with HighER years of experience is lower than the proportion of females with high years of experience\n",
    "users_1 = attribute_assignment(users_1,field_dict = od({\"industry_id\" : [0,21], \"career_level\" : [4,5,6],\"experience_years_experience\" : [4,5,6,7,100]}), set_attr = 'gender', proportion = [0.8,0.2], choices = [0,1])\n",
    "\n",
    "#proportion of males with highER years of experience is (much) lower than the proportion of females with high years of experience\n",
    "users_1 = attribute_assignment(users_1,field_dict = od({\"industry_id\" : [0,21], \"career_level\" : [0,1,2,3,100],\"experience_years_experience\" : [4,5,6,7,100]}), set_attr = 'gender', proportion = [0.8,0.2], choices = [0,1])\n",
    "#proportion of males with lowER years of experience is higher than the proportion of females with low\n",
    "users_1 = attribute_assignment(users_1,field_dict = od({\"industry_id\" : [0,21], \"career_level\" : [0,1,2,3,100],\"experience_years_experience\" : [0,1,2,3]}), set_attr = 'gender', proportion = [0.2,0.8], choices = [0,1])\n",
    "\n",
    "#proportion of females with lowER years of experience is (much) higher than the proportion of males with low years of experience\n",
    "users_1 = attribute_assignment(users_1,field_dict = od({\"industry_id\" : [1,8], \"career_level\" : [4,5,6],\"experience_years_experience\" : [0,1,2,3]}), set_attr = 'gender', proportion = [0.7,0.3], choices = [0,1])\n",
    "users_1 = attribute_assignment(users_1,field_dict = od({\"industry_id\" : [1,8], \"career_level\" : [4,5,6],\"experience_years_experience\" : [4,5,6,7,100]}), set_attr = 'gender', proportion = [0.3,0.7], choices = [0,1])\n",
    "\n",
    "\n",
    "users_1 = attribute_assignment(users_1,field_dict = od({\"industry_id\" : [1,8], \"career_level\" : [0,1,2,3,100],\"experience_years_experience\" : [0,1,2,3,100]}), set_attr = 'gender', proportion = [0.7,0.3], choices = [0,1])\n",
    "users_1 = attribute_assignment(users_1,field_dict = od({\"industry_id\" : [1,8], \"career_level\" : [0,1,2,3,100],\"experience_years_experience\" : [4,5,6,7]}), set_attr = 'gender', proportion = [0.3,0.7], choices = [0,1])\n",
    "if ~trimmed_data:\n",
    "    industry_ids = users['industry_id'].unique()\n",
    "    users_1 = attribute_assignment(users_1,field_dict = od({\"industry_id\" : list(set(industry_ids).difference(set([0,21,1,8])))}), set_attr = 'gender', proportion = [0.5,0.5], choices = [0,1])\n"
   ]
  },
  {
   "cell_type": "code",
   "execution_count": 145,
   "metadata": {},
   "outputs": [],
   "source": [
    "pd.concat([biased_test_interaction,unbiased_test_interaction]).to_csv(test_interaction_file,header=True,index=False)\n",
    "train_users.to_csv(train_users_file,header=True,index=False)\n",
    "test_users.to_csv(test_users_file,header=True,index=False)\n",
    "pd.concat([users_1,unbiased_users_test]).to_csv(assigned_users_file,header=True,index=False)\n",
    "unbiased_test_interaction.groupby('user_id')['item_id'].apply(list).reset_index\n",
    "unbiased_test_interaction.to_csv(unbiased_test_interactions_file,header=True,index=False)\n",
    "biased_test_interaction.groupby('user_id')['item_id'].apply(list).reset_index\n",
    "biased_test_interaction.to_csv(biased_test_interactions_file,header=True,index=False)\n",
    "train_interaction.to_csv(train_interactions_file,header=True)"
   ]
  },
  {
   "cell_type": "code",
   "execution_count": 150,
   "metadata": {},
   "outputs": [
    {
     "name": "stderr",
     "output_type": "stream",
     "text": [
      "/tmp/ipykernel_348978/3940554283.py:1: FutureWarning: In a future version of pandas all arguments of read_csv except for the argument 'filepath_or_buffer' will be keyword-only.\n",
      "  impressions = pd.read_csv('../impressions.csv','\\t')\n"
     ]
    }
   ],
   "source": [
    "impressions = pd.read_csv('../impressions.csv','\\t')"
   ]
  },
  {
   "cell_type": "code",
   "execution_count": null,
   "metadata": {},
   "outputs": [],
   "source": [
    "impressions['items'].apply(lambda x: set(x))"
   ]
  },
  {
   "cell_type": "code",
   "execution_count": 201,
   "metadata": {},
   "outputs": [],
   "source": [
    "x=impressions[impressions['user_id'].isin(limited_users.id.values)]"
   ]
  },
  {
   "cell_type": "code",
   "execution_count": 202,
   "metadata": {},
   "outputs": [
    {
     "name": "stderr",
     "output_type": "stream",
     "text": [
      "/tmp/ipykernel_348978/644485269.py:1: SettingWithCopyWarning: \n",
      "A value is trying to be set on a copy of a slice from a DataFrame.\n",
      "Try using .loc[row_indexer,col_indexer] = value instead\n",
      "\n",
      "See the caveats in the documentation: https://pandas.pydata.org/pandas-docs/stable/user_guide/indexing.html#returning-a-view-versus-a-copy\n",
      "  x['item_id'] = x['items'].apply(lambda x: list(set(x.split(','))))\n"
     ]
    }
   ],
   "source": [
    "x['item_id'] = x['items'].apply(lambda x: list(set(x.split(','))))"
   ]
  },
  {
   "cell_type": "code",
   "execution_count": 203,
   "metadata": {},
   "outputs": [],
   "source": [
    "x=x[['user_id','item_id']]"
   ]
  },
  {
   "cell_type": "code",
   "execution_count": 205,
   "metadata": {},
   "outputs": [],
   "source": [
    "x=x.explode('item_id')"
   ]
  },
  {
   "cell_type": "code",
   "execution_count": 206,
   "metadata": {},
   "outputs": [],
   "source": [
    "x['interaction_type'] =4"
   ]
  },
  {
   "cell_type": "code",
   "execution_count": 209,
   "metadata": {},
   "outputs": [],
   "source": [
    "x[:5000000].to_csv(train_negative_sampling_interactions_file,header=True,index=False)"
   ]
  }
 ],
 "metadata": {
  "kernelspec": {
   "display_name": "base",
   "language": "python",
   "name": "python3"
  },
  "language_info": {
   "codemirror_mode": {
    "name": "ipython",
    "version": 3
   },
   "file_extension": ".py",
   "mimetype": "text/x-python",
   "name": "python",
   "nbconvert_exporter": "python",
   "pygments_lexer": "ipython3",
   "version": "3.9.18"
  },
  "orig_nbformat": 4
 },
 "nbformat": 4,
 "nbformat_minor": 2
}
